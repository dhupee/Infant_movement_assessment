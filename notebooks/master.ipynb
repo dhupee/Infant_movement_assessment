{
 "cells": [
  {
   "cell_type": "code",
   "execution_count": 2,
   "metadata": {},
   "outputs": [],
   "source": [
    "import sys\n",
    "sys.path.insert(0,'../src/data')\n",
    "sys.path.insert(0,'../src/modules')\n",
    "import load_pose_data\n",
    "import preprocess_pose_data\n",
    "import build_features\n",
    "import merge_data_sets\n",
    "import compute_surprise\n",
    "import os"
   ]
  },
  {
   "cell_type": "code",
   "execution_count": 24,
   "metadata": {},
   "outputs": [
    {
     "ename": "AttributeError",
     "evalue": "'DataFrame' object has no attribute 'limbs_subset'",
     "output_type": "error",
     "traceback": [
      "\u001b[0;31m---------------------------------------------------------------------------\u001b[0m",
      "\u001b[0;31mAttributeError\u001b[0m                            Traceback (most recent call last)",
      "Cell \u001b[0;32mIn[24], line 10\u001b[0m\n\u001b[1;32m      6\u001b[0m raw_pose_estimates_video_path \u001b[39m=\u001b[39m \u001b[39m'\u001b[39m\u001b[39m../data/infant_movement_assessment_repo_files/infant_movement_assessment_repo_files/data/pose_estimates/\u001b[39m\u001b[39m'\u001b[39m\n\u001b[1;32m      8\u001b[0m \u001b[39massert\u001b[39;00m os\u001b[39m.\u001b[39mpath\u001b[39m.\u001b[39mexists(raw_pose_estimates_video_path), \u001b[39m'\u001b[39m\u001b[39mFolder does not exist. \u001b[39m\u001b[39m\\n\u001b[39;00m\u001b[39m Edit path to pose estimate data (raw_pose_estimates_video_path) in notebooks/infant_move/master.ipynb, Cell 2.\u001b[39m\u001b[39m'\u001b[39m\n\u001b[0;32m---> 10\u001b[0m load_pose_data\u001b[39m.\u001b[39;49mmain(data_set, raw_pose_estimates_video_path)\n\u001b[1;32m     11\u001b[0m preprocess_pose_data\u001b[39m.\u001b[39mmain(data_set)\n\u001b[1;32m     12\u001b[0m build_features\u001b[39m.\u001b[39mmain(data_set)\n",
      "File \u001b[0;32m~/Projects/Infant_movement_assessment/notebooks/../src/data/load_pose_data.py:36\u001b[0m, in \u001b[0;36mmain\u001b[0;34m(data_set, raw_pose_estimates_video_path)\u001b[0m\n\u001b[1;32m     34\u001b[0m \u001b[39m# extract skeleton from raw pose estimates\u001b[39;00m\n\u001b[1;32m     35\u001b[0m \u001b[39mif\u001b[39;00m os\u001b[39m.\u001b[39mpath\u001b[39m.\u001b[39mexists(os\u001b[39m.\u001b[39mpath\u001b[39m.\u001b[39mjoin(pose_estimates_path, \u001b[39m'\u001b[39m\u001b[39mpose_estimates.pkl\u001b[39m\u001b[39m'\u001b[39m))\u001b[39m==\u001b[39m\u001b[39m0\u001b[39m:\n\u001b[0;32m---> 36\u001b[0m     df \u001b[39m=\u001b[39m df_pkl\u001b[39m.\u001b[39;49mgroupby([\u001b[39m'\u001b[39;49m\u001b[39mvideo\u001b[39;49m\u001b[39m'\u001b[39;49m, \u001b[39m'\u001b[39;49m\u001b[39mframe\u001b[39;49m\u001b[39m'\u001b[39;49m])\u001b[39m.\u001b[39;49mapply(get_skel)\n\u001b[1;32m     37\u001b[0m     df \u001b[39m=\u001b[39m edit_df(df, df_fps)\n\u001b[1;32m     38\u001b[0m     df\u001b[39m.\u001b[39mto_pickle(os\u001b[39m.\u001b[39mpath\u001b[39m.\u001b[39mjoin(pose_estimates_path, \u001b[39m'\u001b[39m\u001b[39mpose_estimates.pkl\u001b[39m\u001b[39m'\u001b[39m))\n",
      "File \u001b[0;32m~/.pyenv/versions/3.8.16/envs/p6-infant/lib/python3.8/site-packages/pandas/core/groupby/groupby.py:1549\u001b[0m, in \u001b[0;36mGroupBy.apply\u001b[0;34m(self, func, *args, **kwargs)\u001b[0m\n\u001b[1;32m   1547\u001b[0m \u001b[39mwith\u001b[39;00m option_context(\u001b[39m\"\u001b[39m\u001b[39mmode.chained_assignment\u001b[39m\u001b[39m\"\u001b[39m, \u001b[39mNone\u001b[39;00m):\n\u001b[1;32m   1548\u001b[0m     \u001b[39mtry\u001b[39;00m:\n\u001b[0;32m-> 1549\u001b[0m         result \u001b[39m=\u001b[39m \u001b[39mself\u001b[39;49m\u001b[39m.\u001b[39;49m_python_apply_general(f, \u001b[39mself\u001b[39;49m\u001b[39m.\u001b[39;49m_selected_obj)\n\u001b[1;32m   1550\u001b[0m     \u001b[39mexcept\u001b[39;00m \u001b[39mTypeError\u001b[39;00m:\n\u001b[1;32m   1551\u001b[0m         \u001b[39m# gh-20949\u001b[39;00m\n\u001b[1;32m   1552\u001b[0m         \u001b[39m# try again, with .apply acting as a filtering\u001b[39;00m\n\u001b[0;32m   (...)\u001b[0m\n\u001b[1;32m   1556\u001b[0m         \u001b[39m# fails on *some* columns, e.g. a numeric operation\u001b[39;00m\n\u001b[1;32m   1557\u001b[0m         \u001b[39m# on a string grouper column\u001b[39;00m\n\u001b[1;32m   1559\u001b[0m         \u001b[39mwith\u001b[39;00m \u001b[39mself\u001b[39m\u001b[39m.\u001b[39m_group_selection_context():\n",
      "File \u001b[0;32m~/.pyenv/versions/3.8.16/envs/p6-infant/lib/python3.8/site-packages/pandas/core/groupby/groupby.py:1601\u001b[0m, in \u001b[0;36mGroupBy._python_apply_general\u001b[0;34m(self, f, data, not_indexed_same, is_transform, is_agg)\u001b[0m\n\u001b[1;32m   1564\u001b[0m \u001b[39m@final\u001b[39m\n\u001b[1;32m   1565\u001b[0m \u001b[39mdef\u001b[39;00m \u001b[39m_python_apply_general\u001b[39m(\n\u001b[1;32m   1566\u001b[0m     \u001b[39mself\u001b[39m,\n\u001b[0;32m   (...)\u001b[0m\n\u001b[1;32m   1571\u001b[0m     is_agg: \u001b[39mbool\u001b[39m \u001b[39m=\u001b[39m \u001b[39mFalse\u001b[39;00m,\n\u001b[1;32m   1572\u001b[0m ) \u001b[39m-\u001b[39m\u001b[39m>\u001b[39m NDFrameT:\n\u001b[1;32m   1573\u001b[0m \u001b[39m    \u001b[39m\u001b[39m\"\"\"\u001b[39;00m\n\u001b[1;32m   1574\u001b[0m \u001b[39m    Apply function f in python space\u001b[39;00m\n\u001b[1;32m   1575\u001b[0m \n\u001b[0;32m   (...)\u001b[0m\n\u001b[1;32m   1599\u001b[0m \u001b[39m        data after applying f\u001b[39;00m\n\u001b[1;32m   1600\u001b[0m \u001b[39m    \"\"\"\u001b[39;00m\n\u001b[0;32m-> 1601\u001b[0m     values, mutated \u001b[39m=\u001b[39m \u001b[39mself\u001b[39;49m\u001b[39m.\u001b[39;49mgrouper\u001b[39m.\u001b[39;49mapply(f, data, \u001b[39mself\u001b[39;49m\u001b[39m.\u001b[39;49maxis)\n\u001b[1;32m   1602\u001b[0m     \u001b[39mif\u001b[39;00m not_indexed_same \u001b[39mis\u001b[39;00m \u001b[39mNone\u001b[39;00m:\n\u001b[1;32m   1603\u001b[0m         not_indexed_same \u001b[39m=\u001b[39m mutated \u001b[39mor\u001b[39;00m \u001b[39mself\u001b[39m\u001b[39m.\u001b[39mmutated\n",
      "File \u001b[0;32m~/.pyenv/versions/3.8.16/envs/p6-infant/lib/python3.8/site-packages/pandas/core/groupby/ops.py:839\u001b[0m, in \u001b[0;36mBaseGrouper.apply\u001b[0;34m(self, f, data, axis)\u001b[0m\n\u001b[1;32m    837\u001b[0m \u001b[39m# group might be modified\u001b[39;00m\n\u001b[1;32m    838\u001b[0m group_axes \u001b[39m=\u001b[39m group\u001b[39m.\u001b[39maxes\n\u001b[0;32m--> 839\u001b[0m res \u001b[39m=\u001b[39m f(group)\n\u001b[1;32m    840\u001b[0m \u001b[39mif\u001b[39;00m \u001b[39mnot\u001b[39;00m mutated \u001b[39mand\u001b[39;00m \u001b[39mnot\u001b[39;00m _is_indexed_like(res, group_axes, axis):\n\u001b[1;32m    841\u001b[0m     mutated \u001b[39m=\u001b[39m \u001b[39mTrue\u001b[39;00m\n",
      "File \u001b[0;32m~/Projects/Infant_movement_assessment/notebooks/../src/modules/util_data.py:80\u001b[0m, in \u001b[0;36mget_skel\u001b[0;34m(df)\u001b[0m\n\u001b[1;32m     79\u001b[0m \u001b[39mdef\u001b[39;00m \u001b[39mget_skel\u001b[39m(df):\n\u001b[0;32m---> 80\u001b[0m     \u001b[39mif\u001b[39;00m \u001b[39mlen\u001b[39m(\u001b[39mlist\u001b[39m(itertools\u001b[39m.\u001b[39mchain(\u001b[39m*\u001b[39mdf\u001b[39m.\u001b[39;49mlimbs_subset)))\u001b[39m>\u001b[39m\u001b[39m0\u001b[39m:\n\u001b[1;32m     81\u001b[0m         peaks \u001b[39m=\u001b[39m df\u001b[39m.\u001b[39mpeaks\u001b[39m.\u001b[39miloc[\u001b[39m0\u001b[39m]\n\u001b[1;32m     82\u001b[0m         parts_in_skel \u001b[39m=\u001b[39m df\u001b[39m.\u001b[39mlimbs_subset\u001b[39m.\u001b[39miloc[\u001b[39m0\u001b[39m]\n",
      "File \u001b[0;32m~/.pyenv/versions/3.8.16/envs/p6-infant/lib/python3.8/site-packages/pandas/core/generic.py:5902\u001b[0m, in \u001b[0;36mNDFrame.__getattr__\u001b[0;34m(self, name)\u001b[0m\n\u001b[1;32m   5895\u001b[0m \u001b[39mif\u001b[39;00m (\n\u001b[1;32m   5896\u001b[0m     name \u001b[39mnot\u001b[39;00m \u001b[39min\u001b[39;00m \u001b[39mself\u001b[39m\u001b[39m.\u001b[39m_internal_names_set\n\u001b[1;32m   5897\u001b[0m     \u001b[39mand\u001b[39;00m name \u001b[39mnot\u001b[39;00m \u001b[39min\u001b[39;00m \u001b[39mself\u001b[39m\u001b[39m.\u001b[39m_metadata\n\u001b[1;32m   5898\u001b[0m     \u001b[39mand\u001b[39;00m name \u001b[39mnot\u001b[39;00m \u001b[39min\u001b[39;00m \u001b[39mself\u001b[39m\u001b[39m.\u001b[39m_accessors\n\u001b[1;32m   5899\u001b[0m     \u001b[39mand\u001b[39;00m \u001b[39mself\u001b[39m\u001b[39m.\u001b[39m_info_axis\u001b[39m.\u001b[39m_can_hold_identifiers_and_holds_name(name)\n\u001b[1;32m   5900\u001b[0m ):\n\u001b[1;32m   5901\u001b[0m     \u001b[39mreturn\u001b[39;00m \u001b[39mself\u001b[39m[name]\n\u001b[0;32m-> 5902\u001b[0m \u001b[39mreturn\u001b[39;00m \u001b[39mobject\u001b[39;49m\u001b[39m.\u001b[39;49m\u001b[39m__getattribute__\u001b[39;49m(\u001b[39mself\u001b[39;49m, name)\n",
      "\u001b[0;31mAttributeError\u001b[0m: 'DataFrame' object has no attribute 'limbs_subset'"
     ]
    }
   ],
   "source": [
    "# Reference data: load, preprocess, kinematic features\n",
    "\n",
    "data_set = 'youtube'\n",
    "\n",
    "# raw_pose_estimates_video_path = '../data/pose_estimates/youtube/py/'\n",
    "raw_pose_estimates_video_path = '../data/infant_movement_assessment_repo_files/infant_movement_assessment_repo_files/data/pose_estimates/'\n",
    "\n",
    "assert os.path.exists(raw_pose_estimates_video_path), 'Folder does not exist. \\n Edit path to pose estimate data (raw_pose_estimates_video_path) in notebooks/infant_move/master.ipynb, Cell 2.'\n",
    "\n",
    "load_pose_data.main(data_set, raw_pose_estimates_video_path)\n",
    "preprocess_pose_data.main(data_set)\n",
    "build_features.main(data_set)"
   ]
  },
  {
   "cell_type": "code",
   "execution_count": null,
   "metadata": {},
   "outputs": [],
   "source": [
    "# Clinical data: load, preprocess, kinematic features\n",
    "\n",
    "data_set = 'clinical'\n",
    "\n",
    "# raw_pose_estimates_video_path = '../data/pose_estimates/youtube/py/'\n",
    "raw_pose_estimates_video_path = '../data/pose_estimates/youtube/py/'\n",
    "\n",
    "assert os.path.exists(raw_pose_estimates_video_path), 'Folder does not exist. \\n Edit path to pose estimate data (raw_pose_estimates_video_path) in notebooks/infant_move/master.ipynb, Cell 3.'\n",
    "\n",
    "load_pose_data.main(data_set, raw_pose_estimates_video_path)\n",
    "preprocess_pose_data.main(data_set)\n",
    "build_features.main(data_set)"
   ]
  },
  {
   "cell_type": "code",
   "execution_count": null,
   "metadata": {},
   "outputs": [],
   "source": [
    "# merge data sets and compute surprise based on features\n",
    "path = '../data/processed/'\n",
    "\n",
    "# merge youtube and clinical data sets\n",
    "merge_data_sets.main()\n",
    "\n",
    "# compute bayes surprise\n",
    "compute_surprise.main(path)\n",
    "\n",
    "# visualizations in notebooks/visualize_results"
   ]
  },
  {
   "cell_type": "code",
   "execution_count": null,
   "metadata": {},
   "outputs": [],
   "source": [
    "# Test pose estimation model: generate predictions from models in ../model folder\n",
    "\n",
    "from keras import backend as K\n",
    "import tensorflow as tf\n",
    "sys.path.insert(0,'../src/pose_model')\n",
    "import get_pose_model_predictions_and_groundtruth\n",
    "\n",
    "check_gpu_is_running =1\n",
    "if check_gpu_is_running==1:\n",
    "    print('CHECK GPU (look for output that mentions GPU)')\n",
    "    print(K.tensorflow_backend._get_available_gpus())\n",
    "    from tensorflow.python.client import device_lib\n",
    "    print(device_lib.list_local_devices())\n",
    "    # Creates a graph.\n",
    "    a = tf.constant([1.0, 2.0, 3.0, 4.0, 5.0, 6.0], shape=[2, 3], name='a')\n",
    "    b = tf.constant([1.0, 2.0, 3.0, 4.0, 5.0, 6.0], shape=[3, 2], name='b')\n",
    "    c = tf.matmul(a, b)\n",
    "    # Creates a session with log_device_placement set to True.\n",
    "    sess = tf.Session(config=tf.ConfigProto(log_device_placement=True))\n",
    "    # Runs the op.\n",
    "    print(sess.run(c))\n",
    "\n",
    "get_pose_model_predictions_and_groundtruth.main()"
   ]
  }
 ],
 "metadata": {
  "kernelspec": {
   "display_name": "p6-infant",
   "language": "python",
   "name": "python3"
  },
  "language_info": {
   "codemirror_mode": {
    "name": "ipython",
    "version": 3
   },
   "file_extension": ".py",
   "mimetype": "text/x-python",
   "name": "python",
   "nbconvert_exporter": "python",
   "pygments_lexer": "ipython3",
   "version": "3.8.16"
  },
  "vscode": {
   "interpreter": {
    "hash": "52f84633204e1c9919a49a518f5ce72221b5710aac846630c087431dff22cdfc"
   }
  }
 },
 "nbformat": 4,
 "nbformat_minor": 2
}
